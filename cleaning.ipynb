import pandas as pd
# Loading csv files
games = pd.read_csv("games.csv")
sales = pd.read_csv("vgsales.csv")
sales.head(1)
