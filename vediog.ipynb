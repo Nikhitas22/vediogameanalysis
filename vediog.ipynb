{
 "cells": [
  {
   "cell_type": "code",
   "execution_count": 32,
   "id": "5aa1efe3-4603-4421-827a-a6e232eef981",
   "metadata": {},
   "outputs": [
    {
     "name": "stdout",
     "output_type": "stream",
     "text": [
      "Requirement already satisfied: panadas in c:\\users\\lenovo\\anaconda3\\lib\\site-packages (0.2)\n"
     ]
    }
   ],
   "source": [
    "!pip install panadas\n"
   ]
  },
  {
   "cell_type": "code",
   "execution_count": 33,
   "id": "965f2d36-30f8-42ad-9e57-21abae8f475c",
   "metadata": {},
   "outputs": [],
   "source": [
    "import pandas as pd\n",
    "import sqlite3\n",
    "import os\n",
    "from datetime import datetime\n"
   ]
  },
  {
   "cell_type": "code",
   "execution_count": 34,
   "id": "5338b84f-fc3c-45bd-82cb-373a088cae01",
   "metadata": {},
   "outputs": [
    {
     "data": {
      "text/plain": [
       "'C:\\\\Users\\\\Lenovo\\\\Desktop\\\\videogame'"
      ]
     },
     "execution_count": 34,
     "metadata": {},
     "output_type": "execute_result"
    }
   ],
   "source": [
    "os.getcwd()"
   ]
  },
  {
   "cell_type": "code",
   "execution_count": 35,
   "id": "ab5b9449-6f91-4d28-8ee7-c5096e9664a1",
   "metadata": {},
   "outputs": [],
   "source": [
    "games = pd.read_csv(\"games.csv\")\n",
    "sales = pd.read_csv(\"vgsales.csv\")"
   ]
  },
  {
   "cell_type": "code",
   "execution_count": 51,
   "id": "ce25f05a-14b2-449f-95a7-c2a56c1a4cba",
   "metadata": {},
   "outputs": [],
   "source": [
    "games.rename(columns={'Title': 'Gamename'}, inplace=True)\n",
    "sales.rename(columns={'Name': 'Gamename'}, inplace=True)\n"
   ]
  },
  {
   "cell_type": "code",
   "execution_count": null,
   "id": "5fe71c80-e2ea-4def-83d8-f1a165b8da93",
   "metadata": {},
   "outputs": [],
   "source": [
    "games.drop_duplicates(inplace=True)\n",
    "sales.drop_duplicates(inplace=True)"
   ]
  },
  {
   "cell_type": "code",
   "execution_count": 38,
   "id": "d2a1bbe0-eead-4c6c-9f0d-0308e88c2b52",
   "metadata": {},
   "outputs": [],
   "source": [
    "games.dropna(subset=['Gamename', 'Rating', 'Plays'], inplace=True)\n",
    "sales.dropna(subset=['Gamename', 'Global_Sales'], inplace=True)"
   ]
  },
  {
   "cell_type": "code",
   "execution_count": 39,
   "id": "452f958b-343c-4aac-8b12-4faa6ca65d87",
   "metadata": {},
   "outputs": [],
   "source": [
    "games['Release Date'] = pd.to_datetime(games['Release Date'], errors='coerce')\n",
    "sales['Year'] = pd.to_numeric(sales['Year'], errors='coerce')  # Clean it\n",
    "sales['Year'] = pd.to_datetime(sales['Year'], format='%Y', errors='coerce')  # Convert to datetime\n"
   ]
  },
  {
   "cell_type": "code",
   "execution_count": 40,
   "id": "3f048bd7-0ba9-40ff-a99a-83d9d0767e70",
   "metadata": {},
   "outputs": [
    {
     "name": "stdout",
     "output_type": "stream",
     "text": [
      "Unnamed: 0            0\n",
      "Title                 0\n",
      "Release Date          3\n",
      "Team                  1\n",
      "Rating               13\n",
      "Times Listed          0\n",
      "Number of Reviews     0\n",
      "Genres                0\n",
      "Summary               1\n",
      "Reviews               0\n",
      "Plays                 0\n",
      "Playing               0\n",
      "Backlogs              0\n",
      "Wishlist              0\n",
      "dtype: int64\n",
      "Rank              0\n",
      "Name              0\n",
      "Platform          0\n",
      "Year            271\n",
      "Genre             0\n",
      "Publisher        58\n",
      "NA_Sales          0\n",
      "EU_Sales          0\n",
      "JP_Sales          0\n",
      "Other_Sales       0\n",
      "Global_Sales      0\n",
      "dtype: int64\n"
     ]
    }
   ],
   "source": [
    "print(games.isnull().sum())\n",
    "print(sales.isnull().sum())"
   ]
  },
  {
   "cell_type": "code",
   "execution_count": 41,
   "id": "348bb596-f5bb-497c-8fc0-ed1319478e82",
   "metadata": {},
   "outputs": [],
   "source": [
    "games['Gamename'] = games['Gamename'].astype(str).str.strip()\n",
    "sales['Gamename'] = sales['Gamename'].astype(str).str.strip()\n"
   ]
  },
  {
   "cell_type": "code",
   "execution_count": 43,
   "id": "a83bc51f-828b-4bb0-8a1f-dbeea1178004",
   "metadata": {},
   "outputs": [
    {
     "data": {
      "text/html": [
       "<div>\n",
       "<style scoped>\n",
       "    .dataframe tbody tr th:only-of-type {\n",
       "        vertical-align: middle;\n",
       "    }\n",
       "\n",
       "    .dataframe tbody tr th {\n",
       "        vertical-align: top;\n",
       "    }\n",
       "\n",
       "    .dataframe thead th {\n",
       "        text-align: right;\n",
       "    }\n",
       "</style>\n",
       "<table border=\"1\" class=\"dataframe\">\n",
       "  <thead>\n",
       "    <tr style=\"text-align: right;\">\n",
       "      <th></th>\n",
       "      <th>Rank</th>\n",
       "      <th>Gamename</th>\n",
       "      <th>Platform</th>\n",
       "      <th>Year</th>\n",
       "      <th>Genre</th>\n",
       "      <th>Publisher</th>\n",
       "      <th>NA_Sales</th>\n",
       "      <th>EU_Sales</th>\n",
       "      <th>JP_Sales</th>\n",
       "      <th>Other_Sales</th>\n",
       "      <th>Global_Sales</th>\n",
       "    </tr>\n",
       "  </thead>\n",
       "  <tbody>\n",
       "    <tr>\n",
       "      <th>0</th>\n",
       "      <td>1</td>\n",
       "      <td>Wii Sports</td>\n",
       "      <td>Wii</td>\n",
       "      <td>2006-01-01</td>\n",
       "      <td>Sports</td>\n",
       "      <td>Nintendo</td>\n",
       "      <td>41.49</td>\n",
       "      <td>29.02</td>\n",
       "      <td>3.77</td>\n",
       "      <td>8.46</td>\n",
       "      <td>82.74</td>\n",
       "    </tr>\n",
       "  </tbody>\n",
       "</table>\n",
       "</div>"
      ],
      "text/plain": [
       "   Rank    Gamename Platform       Year   Genre Publisher  NA_Sales  EU_Sales  \\\n",
       "0     1  Wii Sports      Wii 2006-01-01  Sports  Nintendo     41.49     29.02   \n",
       "\n",
       "   JP_Sales  Other_Sales  Global_Sales  \n",
       "0      3.77         8.46         82.74  "
      ]
     },
     "execution_count": 43,
     "metadata": {},
     "output_type": "execute_result"
    }
   ],
   "source": [
    "sales.head(1)\n"
   ]
  },
  {
   "cell_type": "code",
   "execution_count": null,
   "id": "af9d0ad0-027e-4df2-a1e1-3448fa24659e",
   "metadata": {},
   "outputs": [],
   "source": []
  }
 ],
 "metadata": {
  "kernelspec": {
   "display_name": "Python 3 (ipykernel)",
   "language": "python",
   "name": "python3"
  },
  "language_info": {
   "codemirror_mode": {
    "name": "ipython",
    "version": 3
   },
   "file_extension": ".py",
   "mimetype": "text/x-python",
   "name": "python",
   "nbconvert_exporter": "python",
   "pygments_lexer": "ipython3",
   "version": "3.12.7"
  }
 },
 "nbformat": 4,
 "nbformat_minor": 5
}
